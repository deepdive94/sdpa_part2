{
 "cells": [
  {
   "cell_type": "markdown",
   "metadata": {},
   "source": [
    "## EMATM0048 - Software Development: Programming and Algorithms\n",
    "### Part 2"
   ]
  },
  {
   "cell_type": "markdown",
   "metadata": {},
   "source": [
    "Prepared by: Rajdeep Sarkar\n",
    "\n",
    "Nov, 2020\n",
    "\n"
   ]
  },
  {
   "cell_type": "markdown",
   "metadata": {},
   "source": [
    "This part of SDPA coursework will cover the algorithm and code for the following problem statement:\n",
    "\n",
    "Given two lists L1 and L2 of size N and M respectively, produce an output list that is L1 sorted in\n",
    "such a way that the ordering of the elements is specified by the sequence of elements in L2. For\n",
    "any elements in L1 that are not present in L2, append them at the end of the output-list in sorted\n",
    "order.\n"
   ]
  },
  {
   "cell_type": "markdown",
   "metadata": {},
   "source": [
    "Initialization of Lists, L1, L2 and L3."
   ]
  },
  {
   "cell_type": "code",
   "execution_count": 9,
   "metadata": {
    "pycharm": {
     "name": "#%%\n"
    }
   },
   "outputs": [],
   "source": [
    "L1 = []\n",
    "L2 = []\n",
    "L3 = []"
   ]
  },
  {
   "cell_type": "markdown",
   "metadata": {},
   "source": [
    "To store frequencies of the elements in L1"
   ]
  },
  {
   "cell_type": "code",
   "execution_count": 10,
   "metadata": {
    "pycharm": {
     "name": "#%%\n"
    }
   },
   "outputs": [
    {
     "name": "stdout",
     "output_type": "stream",
     "text": [
      "Enter number of elements for L1: 8\n",
      "2\n",
      "6\n",
      "7\n",
      "5\n",
      "2\n",
      "6\n",
      "8\n",
      "4\n"
     ]
    }
   ],
   "source": [
    "N = int(input(\"Enter number of elements for L1: \"))\n",
    "for i in range(0, N):\n",
    "    ele_L1 = int(input())\n",
    "    L1.append(ele_L1) # adding the element"
   ]
  },
  {
   "cell_type": "markdown",
   "metadata": {},
   "source": [
    "To store frequencies of the elements in L2"
   ]
  },
  {
   "cell_type": "code",
   "execution_count": 11,
   "metadata": {
    "pycharm": {
     "name": "#%%\n"
    }
   },
   "outputs": [
    {
     "name": "stdout",
     "output_type": "stream",
     "text": [
      "Enter number of elements for L2: 4\n",
      "2\n",
      "6\n",
      "4\n",
      "5\n"
     ]
    }
   ],
   "source": [
    "M = int(input(\"Enter number of elements for L2: \"))\n",
    "for i in range(0, M):\n",
    "    ele_L2 = int(input())\n",
    "    L2.append(ele_L2) # adding the element\n"
   ]
  },
  {
   "cell_type": "markdown",
   "metadata": {},
   "source": [
    "To print both the lists"
   ]
  },
  {
   "cell_type": "code",
   "execution_count": 12,
   "metadata": {
    "pycharm": {
     "name": "#%%\n"
    }
   },
   "outputs": [
    {
     "name": "stdout",
     "output_type": "stream",
     "text": [
      "Input: \n",
      "L1 =  [2, 6, 7, 5, 2, 6, 8, 4]\n",
      "L2 =  [2, 6, 4, 5]\n"
     ]
    }
   ],
   "source": [
    "print(\"Input: \\nL1 = \",L1)\n",
    "print(\"L2 = \",L2)"
   ]
  },
  {
   "cell_type": "markdown",
   "metadata": {},
   "source": [
    "To store distinct elements from L1"
   ]
  },
  {
   "cell_type": "code",
   "execution_count": 13,
   "metadata": {
    "pycharm": {
     "name": "#%%\n"
    }
   },
   "outputs": [],
   "source": [
    "# insert the list to the set\n",
    "list_set = set(L1)\n",
    "# convert the set to the list\n",
    "unique_list = (list(list_set))\n"
   ]
  },
  {
   "cell_type": "markdown",
   "metadata": {},
   "source": [
    " Adding the frequencies of the elements of L1 in a dictionary"
   ]
  },
  {
   "cell_type": "code",
   "execution_count": 14,
   "metadata": {
    "pycharm": {
     "name": "#%%\n"
    }
   },
   "outputs": [],
   "source": [
    "# Creating an empty dictionary\n",
    "freq = {}\n",
    "\n",
    "for item in L1:\n",
    "        if (item in freq):\n",
    "            freq[item] += 1\n",
    "        else:\n",
    "            freq[item] = 1\n"
   ]
  },
  {
   "cell_type": "markdown",
   "metadata": {},
   "source": [
    "For all elements in L2, add the elements from L1, and get their frequency from the dictionary, and add it frequency times in L3\n",
    "\n",
    "### Complexity O(n)"
   ]
  },
  {
   "cell_type": "code",
   "execution_count": 15,
   "metadata": {
    "pycharm": {
     "name": "#%%\n"
    }
   },
   "outputs": [],
   "source": [
    "no = 0\n",
    "for i in range(0,M):\n",
    "    if (L2[i] in unique_list):\n",
    "        x =  freq.get(L2[i])\n",
    "        while (x > 0):\n",
    "            L3.append(L2[i])\n",
    "            x = x - 1\n",
    "        unique_list.remove(L2[i])"
   ]
  },
  {
   "cell_type": "markdown",
   "metadata": {},
   "source": [
    "Add remaining elements of the unique list in an array and sort it qand then append it in the L3\n",
    "\n",
    "### Complexity O(nlogn)\n",
    "\n",
    "where n is the size of the unique list containing remaining elements"
   ]
  },
  {
   "cell_type": "code",
   "execution_count": 16,
   "metadata": {
    "pycharm": {
     "name": "#%%\n"
    }
   },
   "outputs": [
    {
     "name": "stdout",
     "output_type": "stream",
     "text": [
      "\n",
      "Output Sorted List =  [2, 2, 6, 6, 4, 5, 7, 8]\n"
     ]
    }
   ],
   "source": [
    "len1 = len(unique_list)\n",
    "temp = []\n",
    "for i in unique_list:\n",
    "    temp.append(i)\n",
    "\n",
    "temp.sort()\n",
    "\n",
    "\n",
    "for i in range(0,len1):\n",
    "    x = freq.get(temp[i])\n",
    "    while x > 0:\n",
    "        L3.append(temp[i])\n",
    "        x = x - 1\n",
    "\n",
    "print(\"\\nOutput Sorted List = \",L3)"
   ]
  },
  {
   "cell_type": "markdown",
   "metadata": {},
   "source": [
    "1. The complexity of the sorting algorithm is  O(n)\n",
    "\n",
    "2. The complexity of the sorting algorithm if L2 is larger than L1 will be the same as the loop will only traverse as many number of times as the number of elements in the L2.\n",
    "   Even if L1 and L2 are of same size, the complexity will remain the same.\n",
    "\n",
    "\n"
   ]
  },
  {
   "cell_type": "code",
   "execution_count": null,
   "metadata": {},
   "outputs": [],
   "source": []
  },
  {
   "cell_type": "code",
   "execution_count": null,
   "metadata": {},
   "outputs": [],
   "source": []
  }
 ],
 "metadata": {
  "kernelspec": {
   "display_name": "Python 3",
   "language": "python",
   "name": "python3"
  },
  "language_info": {
   "codemirror_mode": {
    "name": "ipython",
    "version": 3
   },
   "file_extension": ".py",
   "mimetype": "text/x-python",
   "name": "python",
   "nbconvert_exporter": "python",
   "pygments_lexer": "ipython3",
   "version": "3.8.5"
  }
 },
 "nbformat": 4,
 "nbformat_minor": 1
}
